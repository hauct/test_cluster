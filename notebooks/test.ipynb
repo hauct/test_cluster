{
 "cells": [
  {
   "cell_type": "code",
   "execution_count": 1,
   "id": "0bbdf080-3b74-42c9-af37-ad546165a2f0",
   "metadata": {},
   "outputs": [
    {
     "name": "stderr",
     "output_type": "stream",
     "text": [
      "Setting default log level to \"WARN\".\n",
      "To adjust logging level use sc.setLogLevel(newLevel). For SparkR, use setLogLevel(newLevel).\n",
      "24/09/26 04:03:22 WARN NativeCodeLoader: Unable to load native-hadoop library for your platform... using builtin-java classes where applicable\n",
      "                                                                                \r"
     ]
    },
    {
     "name": "stdout",
     "output_type": "stream",
     "text": [
      "+---+-------+\n",
      "|key|  value|\n",
      "+---+-------+\n",
      "|  0|value_0|\n",
      "|  1|value_1|\n",
      "|  2|value_2|\n",
      "|  3|value_3|\n",
      "|  4|value_4|\n",
      "|  5|value_5|\n",
      "|  6|value_6|\n",
      "|  7|value_7|\n",
      "|  8|value_8|\n",
      "|  9|value_9|\n",
      "+---+-------+\n",
      "only showing top 10 rows\n",
      "\n"
     ]
    },
    {
     "name": "stderr",
     "output_type": "stream",
     "text": [
      "[Stage 1:=============================>                             (1 + 1) / 2]\r"
     ]
    },
    {
     "name": "stdout",
     "output_type": "stream",
     "text": [
      "+---+-----+\n",
      "|key|count|\n",
      "+---+-----+\n",
      "|  0|  100|\n",
      "|  7|  100|\n",
      "|  6|  100|\n",
      "|  9|  100|\n",
      "|  5|  100|\n",
      "|  1|  100|\n",
      "|  3|  100|\n",
      "|  8|  100|\n",
      "|  2|  100|\n",
      "|  4|  100|\n",
      "+---+-----+\n",
      "\n"
     ]
    },
    {
     "name": "stderr",
     "output_type": "stream",
     "text": [
      "                                                                                \r"
     ]
    }
   ],
   "source": [
    "from pyspark.sql import SparkSession\n",
    "from pyspark.sql.functions import col\n",
    "\n",
    "# Tạo SparkSession\n",
    "from pyspark.sql import SparkSession\n",
    "\n",
    "spark = SparkSession.\\\n",
    "        builder.\\\n",
    "        appName(\"test-cluster-2\").\\\n",
    "        master(\"spark://spark-master:7077\").\\\n",
    "        config(\"spark.eventLog.enabled\", \"true\").\\\n",
    "        config(\"spark.eventLog.dir\", \"file:///opt/workspace/events\").\\\n",
    "        getOrCreate()\n",
    "\n",
    "# Tạo dữ liệu mẫu\n",
    "data = [(i % 10, f\"value_{i}\") for i in range(1000)]\n",
    "\n",
    "# Tạo DataFrame\n",
    "df = spark.createDataFrame(data, [\"key\", \"value\"])\n",
    "\n",
    "# Hiển thị một vài bản ghi\n",
    "df.show(10)\n",
    "\n",
    "# Thực hiện hàm count theo key\n",
    "count_df = df.groupBy(\"key\").count()\n",
    "\n",
    "# Hiển thị kết quả\n",
    "count_df.show()"
   ]
  },
  {
   "cell_type": "code",
   "execution_count": 2,
   "id": "74e09e9d-c22b-408b-ba42-8eae1ac1a62c",
   "metadata": {},
   "outputs": [
    {
     "name": "stdout",
     "output_type": "stream",
     "text": [
      "Số lượng core Spark đang sử dụng: 2\n"
     ]
    }
   ],
   "source": [
    "# Lấy thông tin về số lượng core\n",
    "num_cores = spark.sparkContext.defaultParallelism\n",
    "\n",
    "print(f\"Số lượng core Spark đang sử dụng: {num_cores}\")"
   ]
  },
  {
   "cell_type": "code",
   "execution_count": null,
   "id": "f63d2026-f1b5-4ac9-b690-b8ea188856db",
   "metadata": {},
   "outputs": [],
   "source": []
  }
 ],
 "metadata": {
  "kernelspec": {
   "display_name": "Python 3 (ipykernel)",
   "language": "python",
   "name": "python3"
  },
  "language_info": {
   "codemirror_mode": {
    "name": "ipython",
    "version": 3
   },
   "file_extension": ".py",
   "mimetype": "text/x-python",
   "name": "python",
   "nbconvert_exporter": "python",
   "pygments_lexer": "ipython3",
   "version": "3.12.6"
  }
 },
 "nbformat": 4,
 "nbformat_minor": 5
}
